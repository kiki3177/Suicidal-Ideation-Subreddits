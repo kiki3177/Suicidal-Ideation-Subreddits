{
 "nbformat": 4,
 "nbformat_minor": 0,
 "metadata": {
  "colab": {
   "provenance": [],
   "authorship_tag": "ABX9TyNi/ny7Lg+/CJqYAMPyyNDi"
  },
  "kernelspec": {
   "name": "python3",
   "display_name": "Python 3"
  },
  "language_info": {
   "name": "python"
  }
 },
 "cells": [
  {
   "cell_type": "markdown",
   "source": [
    "**Install Dependencies**"
   ],
   "metadata": {
    "id": "w0OIzO84DQ2j"
   }
  },
  {
   "cell_type": "code",
   "source": [
    "!pip install praw\n",
    "!pip install flask"
   ],
   "metadata": {
    "colab": {
     "base_uri": "https://localhost:8080/"
    },
    "id": "hZXodExqDUuk",
    "executionInfo": {
     "status": "ok",
     "timestamp": 1711126523053,
     "user_tz": 420,
     "elapsed": 14457,
     "user": {
      "displayName": "Elias Martin",
      "userId": "17036091420737878235"
     }
    },
    "outputId": "27cf5638-d615-4d81-c0d9-807617da2e76"
   },
   "execution_count": 2,
   "outputs": [
    {
     "output_type": "stream",
     "name": "stdout",
     "text": [
      "Requirement already satisfied: praw in /usr/local/lib/python3.10/dist-packages (7.7.1)\n",
      "Requirement already satisfied: prawcore<3,>=2.1 in /usr/local/lib/python3.10/dist-packages (from praw) (2.4.0)\n",
      "Requirement already satisfied: update-checker>=0.18 in /usr/local/lib/python3.10/dist-packages (from praw) (0.18.0)\n",
      "Requirement already satisfied: websocket-client>=0.54.0 in /usr/local/lib/python3.10/dist-packages (from praw) (1.7.0)\n",
      "Requirement already satisfied: requests<3.0,>=2.6.0 in /usr/local/lib/python3.10/dist-packages (from prawcore<3,>=2.1->praw) (2.31.0)\n",
      "Requirement already satisfied: charset-normalizer<4,>=2 in /usr/local/lib/python3.10/dist-packages (from requests<3.0,>=2.6.0->prawcore<3,>=2.1->praw) (3.3.2)\n",
      "Requirement already satisfied: idna<4,>=2.5 in /usr/local/lib/python3.10/dist-packages (from requests<3.0,>=2.6.0->prawcore<3,>=2.1->praw) (3.6)\n",
      "Requirement already satisfied: urllib3<3,>=1.21.1 in /usr/local/lib/python3.10/dist-packages (from requests<3.0,>=2.6.0->prawcore<3,>=2.1->praw) (2.0.7)\n",
      "Requirement already satisfied: certifi>=2017.4.17 in /usr/local/lib/python3.10/dist-packages (from requests<3.0,>=2.6.0->prawcore<3,>=2.1->praw) (2024.2.2)\n",
      "Requirement already satisfied: flask in /usr/local/lib/python3.10/dist-packages (2.2.5)\n",
      "Requirement already satisfied: Werkzeug>=2.2.2 in /usr/local/lib/python3.10/dist-packages (from flask) (3.0.1)\n",
      "Requirement already satisfied: Jinja2>=3.0 in /usr/local/lib/python3.10/dist-packages (from flask) (3.1.3)\n",
      "Requirement already satisfied: itsdangerous>=2.0 in /usr/local/lib/python3.10/dist-packages (from flask) (2.1.2)\n",
      "Requirement already satisfied: click>=8.0 in /usr/local/lib/python3.10/dist-packages (from flask) (8.1.7)\n",
      "Requirement already satisfied: MarkupSafe>=2.0 in /usr/local/lib/python3.10/dist-packages (from Jinja2>=3.0->flask) (2.1.5)\n"
     ]
    }
   ]
  },
  {
   "cell_type": "markdown",
   "source": [
    "**Use Flask to handle incoming requests from redirect URI from Reddit**"
   ],
   "metadata": {
    "id": "_QV14LD3JyHE"
   }
  },
  {
   "cell_type": "code",
   "source": [
    "from flask import Flask, request\n",
    "\n",
    "app = Flask(__name__)\n",
    "\n",
    "@app.route('/reddit_callback')\n",
    "def reddit_callback():\n",
    "    # Retrieve the authorization code or access token from the URL parameters\n",
    "    authorization_code = request.args.get('code')\n",
    "    # Do something with the authorization code, such as exchanging it for an access token\n",
    "    # Or, store it for later use\n",
    "    return \"Callback received successfully\"\n",
    "\n",
    "if __name__ == '__main__':\n",
    "    app.run(host='localhost', port=8088)"
   ],
   "metadata": {
    "colab": {
     "base_uri": "https://localhost:8080/"
    },
    "id": "W1JLuUjfFjyH",
    "executionInfo": {
     "status": "ok",
     "timestamp": 1711127285927,
     "user_tz": 420,
     "elapsed": 142929,
     "user": {
      "displayName": "Elias Martin",
      "userId": "17036091420737878235"
     }
    },
    "outputId": "67465032-7d73-4943-c495-1a10278250ed"
   },
   "execution_count": 4,
   "outputs": [
    {
     "output_type": "stream",
     "name": "stdout",
     "text": [
      " * Serving Flask app '__main__'\n",
      " * Debug mode: off\n"
     ]
    },
    {
     "output_type": "stream",
     "name": "stderr",
     "text": [
      "INFO:werkzeug:\u001B[31m\u001B[1mWARNING: This is a development server. Do not use it in a production deployment. Use a production WSGI server instead.\u001B[0m\n",
      " * Running on http://localhost:8088\n",
      "INFO:werkzeug:\u001B[33mPress CTRL+C to quit\u001B[0m\n"
     ]
    }
   ]
  },
  {
   "cell_type": "markdown",
   "source": [
    "**Gather data from Reddit using PRAW**"
   ],
   "metadata": {
    "id": "gTWOosIUKBCa"
   }
  },
  {
   "cell_type": "code",
   "execution_count": 10,
   "metadata": {
    "colab": {
     "base_uri": "https://localhost:8080/"
    },
    "id": "VGSkZxglDFjG",
    "executionInfo": {
     "status": "ok",
     "timestamp": 1711128012385,
     "user_tz": 420,
     "elapsed": 8411,
     "user": {
      "displayName": "Elias Martin",
      "userId": "17036091420737878235"
     }
    },
    "outputId": "ce30a3cb-85af-4373-c2fd-0abd24e0a26c"
   },
   "outputs": [
    {
     "output_type": "stream",
     "name": "stdout",
     "text": [
      "                                               Title  \\\n",
      "0  CMV: Older coins for collecting should be clea...   \n",
      "1  CMV: Saying Boomer had it easier is agreeing w...   \n",
      "2  CMV: A dead bedroom alone is not reason enough...   \n",
      "3                           META: Fresh Topic Friday   \n",
      "4  CMV: The only way to curb the fentanyl epidemi...   \n",
      "5  CMV: Military *femboy outfits are stupid (and ...   \n",
      "6  CMV: \"Virginity is a social construct\" isn't a...   \n",
      "7  CMV: There is no valid reason for tipping in a...   \n",
      "8  CMV: consumers are ultimately responsible for ...   \n",
      "9           CMV: Libertarianism is liberal extremism   \n",
      "\n",
      "                                                Body  \\\n",
      "0  The cardinal sin of numismatics: cleaning coin...   \n",
      "1  always wondered, on the one hand everytime som...   \n",
      "2  It's no secret that when people ask for relati...   \n",
      "3  [Every Friday](https://www.reddit.com/r/change...   \n",
      "4  Especially in the US. we have draconian drug l...   \n",
      "5  \\*or any military outfit with thigh highs/skir...   \n",
      "6  I really only see this used as a way to combat...   \n",
      "7  Tipping is a common custom in the United State...   \n",
      "8  I see so many comment threads and posts talkin...   \n",
      "9  I think that Libertarianism is Liberalism take...   \n",
      "\n",
      "                                                 URL  \\\n",
      "0  https://www.reddit.com/r/changemyview/comments...   \n",
      "1  https://www.reddit.com/r/changemyview/comments...   \n",
      "2  https://www.reddit.com/r/changemyview/comments...   \n",
      "3  https://www.reddit.com/r/changemyview/comments...   \n",
      "4  https://www.reddit.com/r/changemyview/comments...   \n",
      "5  https://www.reddit.com/r/changemyview/comments...   \n",
      "6  https://www.reddit.com/r/changemyview/comments...   \n",
      "7  https://www.reddit.com/r/changemyview/comments...   \n",
      "8  https://www.reddit.com/r/changemyview/comments...   \n",
      "9  https://www.reddit.com/r/changemyview/comments...   \n",
      "\n",
      "                                        Top Comments  \n",
      "0  [It would be very difficult to clean the coin ...  \n",
      "1  [Yes, it was better in the past for CERTAIN DE...  \n",
      "2  [/u/WasteChard3488 (OP) has awarded 1 delta(s)...  \n",
      "3                                                 []  \n",
      "4  [Some drugs never need to be legalized. You ar...  \n",
      "5  [Your post seems confused. You call people stu...  \n",
      "6  [You missed a big (possibly the biggest) time ...  \n",
      "7  [/u/Human-Revolution3594 (OP) has awarded 1 de...  \n",
      "8  [/u/PM_YOUR_ECON_HOMEWRK (OP) has awarded 1 de...  \n",
      "9  [Libertarians can be very different, many peop...  \n"
     ]
    }
   ],
   "source": [
    "# Step 1: pip install praw, pip install flask\n",
    "# Step 2: Go to the Reddit apps page (https://www.reddit.com/prefs/apps) while logged into your Reddit account.\n",
    "# Step 3: Click on “are you a developer? create an app...” or “create another app”.\n",
    "#         Fill out the form:\n",
    "#         Name your application.\n",
    "#         Select the “script” option.\n",
    "#         Note down the client ID (found underneath the app name), user agent (your name found above the app name), and the client secret.\n",
    "# Step 4: Input them below, and then run the cell\n",
    "\n",
    "import praw\n",
    "import pandas as pd\n",
    "\n",
    "reddit = praw.Reddit(\n",
    "    client_id='YOUR_CLIENT_ID',\n",
    "    client_secret='YOUR_CLIENT_SECRET',\n",
    "    user_agent='YOUR_USER_AGENT',\n",
    "    check_for_async=False\n",
    ")\n",
    "\n",
    "# Step 4: Define the subreddit\n",
    "subreddit = reddit.subreddit('changemyview')\n",
    "\n",
    "\n",
    "# Step 5: Save the posts\n",
    "# Create lists to store data\n",
    "titles = []\n",
    "bodies = []\n",
    "urls = []\n",
    "comments_list = []\n",
    "\n",
    "# Iterate over the posts\n",
    "for submission in subreddit.new(limit=10):  # Adjust the limit as needed\n",
    "    submission.comments.replace_more(limit=0)  # Remove MoreComments\n",
    "    comments = submission.comments.list()[:10]  # Get top 10 comments\n",
    "\n",
    "    # Append data to lists\n",
    "    titles.append(submission.title)\n",
    "    bodies.append(submission.selftext)\n",
    "    urls.append(submission.url)\n",
    "    comments_list.append([comment.body for comment in comments])\n",
    "\n",
    "# Creating a DataFrame\n",
    "df = pd.DataFrame({\n",
    "    'Title': titles,\n",
    "    'Body': bodies,\n",
    "    'URL': urls,\n",
    "    'Top Comments': comments_list\n",
    "})\n",
    "\n",
    "print(df)\n",
    "# Saving the df\n",
    "df.to_csv('Reddit.csv', index=False)"
   ]
  }
 ]
}
