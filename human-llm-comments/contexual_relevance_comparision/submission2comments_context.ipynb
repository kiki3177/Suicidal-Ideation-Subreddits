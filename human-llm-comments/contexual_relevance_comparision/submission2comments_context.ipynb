{
  "cells": [
    {
      "attachments": {},
      "cell_type": "markdown",
      "metadata": {},
      "source": [
        "This script is used to calculate the BERT Score for contextual relevance between submissions and comments, which is then used to compare the BERT Scores of human vs. LLM-generated comments"
      ]
    },
    {
      "cell_type": "code",
      "execution_count": null,
      "metadata": {
        "id": "-ZPzNOEQBvoz"
      },
      "outputs": [],
      "source": [
        "import pandas as pd\n",
        "from bert_score import score\n",
        "import numpy as np\n",
        "\n",
        "# Loading  data\n",
        "csv_file_path = \"/content/2020_suicide_human_output-6.csv\"\n",
        "data = pd.read_csv(csv_file_path)\n",
        "\n",
        "submissions = data['content_submission'].tolist()\n",
        "comments = data['content_comment'].tolist()\n",
        "\n",
        "# BERT scores (reference is submissions, candidate is comments)\n",
        "P, R, F1 = score(comments, submissions, lang=\"en\", verbose=True)\n",
        "\n",
        "# Adding BERT scores to the DataFrame\n",
        "data['bert_precision'] = P.tolist()\n",
        "data['bert_recall'] = R.tolist()\n",
        "data['bert_f1'] = F1.tolist()\n",
        "\n",
        "output_file_path = \"/content/2020_suicide_LLM_with_metrics.csv\"\n",
        "data.to_csv(output_file_path, index=False)\n",
        "\n",
        "\n"
      ]
    }
  ],
  "metadata": {
    "colab": {
      "provenance": []
    },
    "kernelspec": {
      "display_name": "Python 3",
      "language": "python",
      "name": "python3"
    },
    "language_info": {
      "name": "python",
      "version": "3.10.7 (v3.10.7:6cc6b13308, Sep  5 2022, 14:02:52) [Clang 13.0.0 (clang-1300.0.29.30)]"
    },
    "vscode": {
      "interpreter": {
        "hash": "aee8b7b246df8f9039afb4144a1f6fd8d2ca17a180786b69acc140d282b71a49"
      }
    }
  },
  "nbformat": 4,
  "nbformat_minor": 0
}
