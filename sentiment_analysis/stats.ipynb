{
 "cells": [
  {
   "cell_type": "code",
   "id": "initial_id",
   "metadata": {
    "collapsed": true,
    "ExecuteTime": {
     "end_time": "2025-01-09T17:37:23.216578Z",
     "start_time": "2025-01-09T17:37:23.213578Z"
    }
   },
   "source": "import pandas as pd",
   "outputs": [],
   "execution_count": 4
  },
  {
   "metadata": {
    "ExecuteTime": {
     "end_time": "2025-01-09T17:38:05.179910Z",
     "start_time": "2025-01-09T17:38:05.099247Z"
    }
   },
   "cell_type": "code",
   "source": [
    "df_depression = pd.read_csv('depression_submitters_replied_2023_sentiment_score_transformer.csv', dtype='str', encoding='utf-8', lineterminator='\\n')\n",
    "df_depression['sentiment_tracking_category'].value_counts()"
   ],
   "id": "d69583efaf2a59e4",
   "outputs": [
    {
     "data": {
      "text/plain": [
       "sentiment_tracking_category\n",
       "neutral                 2328\n",
       "significant positive    1351\n",
       "significant negative     235\n",
       "slight positive          231\n",
       "slight negative           96\n",
       "Name: count, dtype: int64"
      ]
     },
     "execution_count": 5,
     "metadata": {},
     "output_type": "execute_result"
    }
   ],
   "execution_count": 5
  },
  {
   "metadata": {
    "ExecuteTime": {
     "end_time": "2025-01-09T17:38:05.419157Z",
     "start_time": "2025-01-09T17:38:05.303751Z"
    }
   },
   "cell_type": "code",
   "source": [
    "df_suicide = pd.read_csv('suicide_submitters_replied_2023_sentiment_score_transformer.csv', dtype='str', encoding='utf-8', lineterminator='\\n')\n",
    "df_suicide['sentiment_tracking_category'].value_counts()"
   ],
   "id": "9b99217a0afbf0b9",
   "outputs": [
    {
     "data": {
      "text/plain": [
       "sentiment_tracking_category\n",
       "neutral                 3955\n",
       "significant positive    1625\n",
       "significant negative     448\n",
       "slight positive          325\n",
       "slight negative          157\n",
       "Name: count, dtype: int64"
      ]
     },
     "execution_count": 6,
     "metadata": {},
     "output_type": "execute_result"
    }
   ],
   "execution_count": 6
  },
  {
   "metadata": {
    "ExecuteTime": {
     "end_time": "2025-01-09T17:44:35.612164Z",
     "start_time": "2025-01-09T17:44:35.603848Z"
    }
   },
   "cell_type": "code",
   "source": [
    "df_depression2 = pd.read_csv('depression_tail_submitters_replied_2023_sentiment_score_transformer.csv', dtype='str', encoding='utf-8', lineterminator='\\n')\n",
    "df_depression2['sentiment_tracking_category'].value_counts()"
   ],
   "id": "9e8fdb5cad4cc608",
   "outputs": [
    {
     "data": {
      "text/plain": [
       "sentiment_tracking_category\n",
       "neutral                 23\n",
       "significant positive    16\n",
       "slight positive          3\n",
       "significant negative     1\n",
       "Name: count, dtype: int64"
      ]
     },
     "execution_count": 10,
     "metadata": {},
     "output_type": "execute_result"
    }
   ],
   "execution_count": 10
  },
  {
   "metadata": {
    "ExecuteTime": {
     "end_time": "2025-01-09T17:44:39.662899Z",
     "start_time": "2025-01-09T17:44:39.654326Z"
    }
   },
   "cell_type": "code",
   "source": [
    "df_suicide2 = pd.read_csv('suicide_tail_submitters_replied_2023_sentiment_score_transformer.csv', dtype='str', encoding='utf-8', lineterminator='\\n')\n",
    "df_suicide2['sentiment_tracking_category'].value_counts()"
   ],
   "id": "7e9e79bcf793520c",
   "outputs": [
    {
     "data": {
      "text/plain": [
       "sentiment_tracking_category\n",
       "neutral                 29\n",
       "significant positive    16\n",
       "slight positive          3\n",
       "slight negative          1\n",
       "Name: count, dtype: int64"
      ]
     },
     "execution_count": 11,
     "metadata": {},
     "output_type": "execute_result"
    }
   ],
   "execution_count": 11
  },
  {
   "metadata": {},
   "cell_type": "code",
   "outputs": [],
   "execution_count": null,
   "source": "",
   "id": "9a591eae0927bf06"
  }
 ],
 "metadata": {
  "kernelspec": {
   "display_name": "Python 3",
   "language": "python",
   "name": "python3"
  },
  "language_info": {
   "codemirror_mode": {
    "name": "ipython",
    "version": 2
   },
   "file_extension": ".py",
   "mimetype": "text/x-python",
   "name": "python",
   "nbconvert_exporter": "python",
   "pygments_lexer": "ipython2",
   "version": "2.7.6"
  }
 },
 "nbformat": 4,
 "nbformat_minor": 5
}
