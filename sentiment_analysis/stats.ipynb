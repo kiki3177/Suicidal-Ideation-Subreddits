{
 "cells": [
  {
   "cell_type": "code",
   "id": "initial_id",
   "metadata": {
    "collapsed": true,
    "ExecuteTime": {
     "end_time": "2025-01-20T09:15:51.580988Z",
     "start_time": "2025-01-20T09:15:51.578426Z"
    }
   },
   "source": "import pandas as pd",
   "outputs": [],
   "execution_count": 4
  },
  {
   "metadata": {
    "ExecuteTime": {
     "end_time": "2025-01-20T09:15:52.519579Z",
     "start_time": "2025-01-20T09:15:51.993800Z"
    }
   },
   "cell_type": "code",
   "source": [
    "subreddit_names = [\"suicide\", \"depression\"]\n",
    "years = [2020, 2023, 2024]\n",
    "core_or_random_list = ['core', 'random']\n",
    "\n",
    "all_value_counts_df = pd.DataFrame()\n",
    "\n",
    "for subreddit_name in subreddit_names:\n",
    "    for year in years:\n",
    "        for core_or_random in core_or_random_list:\n",
    "            file_path = f'transformer_results/{subreddit_name}_{core_or_random}_submitters_replied_{year}_sentiment_score_transformer.csv'\n",
    "            df = pd.read_csv(file_path, dtype='str', encoding='utf-8', lineterminator='\\n')\n",
    "\n",
    "            value_counts = df['sentiment_tracking_category'].value_counts()\n",
    "\n",
    "            value_counts_df = value_counts.reset_index()\n",
    "            value_counts_df.columns = ['sentiment_tracking_category', 'count']\n",
    "\n",
    "            value_counts_df['year'] = year\n",
    "            value_counts_df['subreddit_name'] = subreddit_name\n",
    "            value_counts_df['core_or_random'] = core_or_random\n",
    "            value_counts_df = value_counts_df[['year', 'subreddit_name', 'core_or_random', 'sentiment_tracking_category', 'count']]\n",
    "            all_value_counts_df = pd.concat([all_value_counts_df, value_counts_df], ignore_index=True)\n",
    "\n",
    "all_value_counts_df.to_csv('combined_sentiment_tracking_category_counts.csv', index=False, encoding='utf-8')"
   ],
   "id": "9a591eae0927bf06",
   "outputs": [],
   "execution_count": 5
  },
  {
   "metadata": {},
   "cell_type": "code",
   "outputs": [],
   "execution_count": null,
   "source": "",
   "id": "51bb6717d9f53ac4"
  }
 ],
 "metadata": {
  "kernelspec": {
   "display_name": "Python 3",
   "language": "python",
   "name": "python3"
  },
  "language_info": {
   "codemirror_mode": {
    "name": "ipython",
    "version": 2
   },
   "file_extension": ".py",
   "mimetype": "text/x-python",
   "name": "python",
   "nbconvert_exporter": "python",
   "pygments_lexer": "ipython2",
   "version": "2.7.6"
  }
 },
 "nbformat": 4,
 "nbformat_minor": 5
}
